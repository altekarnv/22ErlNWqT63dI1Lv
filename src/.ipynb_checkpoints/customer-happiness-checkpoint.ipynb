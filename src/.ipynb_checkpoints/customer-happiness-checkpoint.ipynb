{
 "cells": [
  {
   "cell_type": "code",
   "execution_count": 14,
   "id": "2752e003-6493-4e10-b702-8a4d8057759d",
   "metadata": {},
   "outputs": [],
   "source": [
    "# Import necessary libraries\n",
    "import pandas as pd\n",
    "from sklearn.model_selection import train_test_split\n",
    "\n",
    "# Classifiers\n",
    "from sklearn.naive_bayes import GaussianNB\n",
    "from sklearn.linear_model import LogisticRegression\n",
    "from sklearn.neighbors import KNeighborsClassifier\n",
    "from sklearn.tree import DecisionTreeClassifier\n",
    "from sklearn.neural_network import MLPClassifier\n",
    "from sklearn.svm import SVC\n",
    "from sklearn.ensemble import RandomForestClassifier"
   ]
  },
  {
   "cell_type": "code",
   "execution_count": 2,
   "id": "dea6cddf-89f0-4653-9c38-66908122e328",
   "metadata": {},
   "outputs": [],
   "source": [
    "# Create the dataframe from the given dataset\n",
    "dataLocation = \"../data/ACME-HappinessSurvey2020.csv\"\n",
    "df = pd.read_csv(dataLocation)"
   ]
  },
  {
   "cell_type": "code",
   "execution_count": 3,
   "id": "b9f5b8dc-3b25-44a7-8b2e-df7191d85da7",
   "metadata": {},
   "outputs": [
    {
     "data": {
      "text/html": [
       "<div>\n",
       "<style scoped>\n",
       "    .dataframe tbody tr th:only-of-type {\n",
       "        vertical-align: middle;\n",
       "    }\n",
       "\n",
       "    .dataframe tbody tr th {\n",
       "        vertical-align: top;\n",
       "    }\n",
       "\n",
       "    .dataframe thead th {\n",
       "        text-align: right;\n",
       "    }\n",
       "</style>\n",
       "<table border=\"1\" class=\"dataframe\">\n",
       "  <thead>\n",
       "    <tr style=\"text-align: right;\">\n",
       "      <th></th>\n",
       "      <th>Y</th>\n",
       "      <th>X1</th>\n",
       "      <th>X2</th>\n",
       "      <th>X3</th>\n",
       "      <th>X4</th>\n",
       "      <th>X5</th>\n",
       "      <th>X6</th>\n",
       "    </tr>\n",
       "  </thead>\n",
       "  <tbody>\n",
       "    <tr>\n",
       "      <th>count</th>\n",
       "      <td>126.000000</td>\n",
       "      <td>126.000000</td>\n",
       "      <td>126.000000</td>\n",
       "      <td>126.000000</td>\n",
       "      <td>126.000000</td>\n",
       "      <td>126.000000</td>\n",
       "      <td>126.000000</td>\n",
       "    </tr>\n",
       "    <tr>\n",
       "      <th>mean</th>\n",
       "      <td>0.547619</td>\n",
       "      <td>4.333333</td>\n",
       "      <td>2.531746</td>\n",
       "      <td>3.309524</td>\n",
       "      <td>3.746032</td>\n",
       "      <td>3.650794</td>\n",
       "      <td>4.253968</td>\n",
       "    </tr>\n",
       "    <tr>\n",
       "      <th>std</th>\n",
       "      <td>0.499714</td>\n",
       "      <td>0.800000</td>\n",
       "      <td>1.114892</td>\n",
       "      <td>1.023440</td>\n",
       "      <td>0.875776</td>\n",
       "      <td>1.147641</td>\n",
       "      <td>0.809311</td>\n",
       "    </tr>\n",
       "    <tr>\n",
       "      <th>min</th>\n",
       "      <td>0.000000</td>\n",
       "      <td>1.000000</td>\n",
       "      <td>1.000000</td>\n",
       "      <td>1.000000</td>\n",
       "      <td>1.000000</td>\n",
       "      <td>1.000000</td>\n",
       "      <td>1.000000</td>\n",
       "    </tr>\n",
       "    <tr>\n",
       "      <th>25%</th>\n",
       "      <td>0.000000</td>\n",
       "      <td>4.000000</td>\n",
       "      <td>2.000000</td>\n",
       "      <td>3.000000</td>\n",
       "      <td>3.000000</td>\n",
       "      <td>3.000000</td>\n",
       "      <td>4.000000</td>\n",
       "    </tr>\n",
       "    <tr>\n",
       "      <th>50%</th>\n",
       "      <td>1.000000</td>\n",
       "      <td>5.000000</td>\n",
       "      <td>3.000000</td>\n",
       "      <td>3.000000</td>\n",
       "      <td>4.000000</td>\n",
       "      <td>4.000000</td>\n",
       "      <td>4.000000</td>\n",
       "    </tr>\n",
       "    <tr>\n",
       "      <th>75%</th>\n",
       "      <td>1.000000</td>\n",
       "      <td>5.000000</td>\n",
       "      <td>3.000000</td>\n",
       "      <td>4.000000</td>\n",
       "      <td>4.000000</td>\n",
       "      <td>4.000000</td>\n",
       "      <td>5.000000</td>\n",
       "    </tr>\n",
       "    <tr>\n",
       "      <th>max</th>\n",
       "      <td>1.000000</td>\n",
       "      <td>5.000000</td>\n",
       "      <td>5.000000</td>\n",
       "      <td>5.000000</td>\n",
       "      <td>5.000000</td>\n",
       "      <td>5.000000</td>\n",
       "      <td>5.000000</td>\n",
       "    </tr>\n",
       "  </tbody>\n",
       "</table>\n",
       "</div>"
      ],
      "text/plain": [
       "                Y          X1          X2          X3          X4          X5  \\\n",
       "count  126.000000  126.000000  126.000000  126.000000  126.000000  126.000000   \n",
       "mean     0.547619    4.333333    2.531746    3.309524    3.746032    3.650794   \n",
       "std      0.499714    0.800000    1.114892    1.023440    0.875776    1.147641   \n",
       "min      0.000000    1.000000    1.000000    1.000000    1.000000    1.000000   \n",
       "25%      0.000000    4.000000    2.000000    3.000000    3.000000    3.000000   \n",
       "50%      1.000000    5.000000    3.000000    3.000000    4.000000    4.000000   \n",
       "75%      1.000000    5.000000    3.000000    4.000000    4.000000    4.000000   \n",
       "max      1.000000    5.000000    5.000000    5.000000    5.000000    5.000000   \n",
       "\n",
       "               X6  \n",
       "count  126.000000  \n",
       "mean     4.253968  \n",
       "std      0.809311  \n",
       "min      1.000000  \n",
       "25%      4.000000  \n",
       "50%      4.000000  \n",
       "75%      5.000000  \n",
       "max      5.000000  "
      ]
     },
     "execution_count": 3,
     "metadata": {},
     "output_type": "execute_result"
    }
   ],
   "source": [
    "# Get descriptiove statistics of the entire dataset to get the general idea about the data set.\n",
    "df.describe()"
   ]
  },
  {
   "cell_type": "code",
   "execution_count": 4,
   "id": "3096f7f2-5b03-4838-ba6b-309d007736df",
   "metadata": {},
   "outputs": [],
   "source": [
    "# CHeck if any columns in the dataset contain null values"
   ]
  },
  {
   "cell_type": "code",
   "execution_count": 5,
   "id": "640656f6-3c73-4845-9727-020239527579",
   "metadata": {},
   "outputs": [
    {
     "data": {
      "text/plain": [
       "Y     0\n",
       "X1    0\n",
       "X2    0\n",
       "X3    0\n",
       "X4    0\n",
       "X5    0\n",
       "X6    0\n",
       "dtype: int64"
      ]
     },
     "execution_count": 5,
     "metadata": {},
     "output_type": "execute_result"
    }
   ],
   "source": [
    "df.isnull().sum()"
   ]
  },
  {
   "cell_type": "code",
   "execution_count": 6,
   "id": "84e4d920-d9b1-4185-94c2-364caba04290",
   "metadata": {},
   "outputs": [],
   "source": [
    "# The data set does not contain any null values. Now proceed with further steps\n",
    "# This is a classification problem with single dependent variable \"Y\" and six independent variables"
   ]
  },
  {
   "cell_type": "code",
   "execution_count": 7,
   "id": "d02dde68-59b9-4a4c-9758-aef056561abe",
   "metadata": {},
   "outputs": [],
   "source": [
    "# Divide the data into training data and test data (80:20)\n",
    "X = df.loc[:, df.columns!='Y']\n",
    "y = df['Y']\n",
    "X_train, X_test, y_train, y_test = train_test_split(X,y,test_size=0.20)"
   ]
  },
  {
   "cell_type": "code",
   "execution_count": 8,
   "id": "1d5ff9d2-dec7-492a-94a6-a4939701625b",
   "metadata": {},
   "outputs": [
    {
     "name": "stdout",
     "output_type": "stream",
     "text": [
      "Naive Bayes:\n",
      "Testing Accuracy: 61.54%\n"
     ]
    }
   ],
   "source": [
    "classifier = GaussianNB()\n",
    "model = classifier.fit(X_train, y_train)\n",
    "y_pred = model.predict(X_test)\n",
    "totalTestPoints = len(y_test)\n",
    "correctlyPredicted = (y_test == y_pred).sum()\n",
    "\n",
    "print(\"Naive Bayes:\")\n",
    "print(f\"Testing Accuracy: {round(100*correctlyPredicted/totalTestPoints,2)}%\") # TP+TN/Total"
   ]
  },
  {
   "cell_type": "code",
   "execution_count": 9,
   "id": "6f8d7695-3377-4194-a138-e82e3faa246a",
   "metadata": {},
   "outputs": [
    {
     "name": "stdout",
     "output_type": "stream",
     "text": [
      "Logistic Regression:\n",
      "Testing Accuracy: 61.54%\n"
     ]
    }
   ],
   "source": [
    "classifier = LogisticRegression()\n",
    "model = classifier.fit(X_train, y_train)\n",
    "y_pred = model.predict(X_test)\n",
    "totalTestPoints = len(y_test)\n",
    "correctlyPredicted = (y_test == y_pred).sum()\n",
    "\n",
    "print(\"Logistic Regression:\")\n",
    "print(f\"Testing Accuracy: {round(100*correctlyPredicted/totalTestPoints,2)}%\") # TP+TN/Total"
   ]
  },
  {
   "cell_type": "code",
   "execution_count": 10,
   "id": "4d09b8fa-6c94-4109-bd22-57bd948b3d33",
   "metadata": {},
   "outputs": [
    {
     "name": "stdout",
     "output_type": "stream",
     "text": [
      "K-Nearest Neighbours:\n",
      "Testing Accuracy: 53.85%\n"
     ]
    }
   ],
   "source": [
    "classifier = KNeighborsClassifier(n_neighbors=3)\n",
    "model = classifier.fit(X_train, y_train)\n",
    "y_pred = model.predict(X_test)\n",
    "totalTestPoints = len(y_test)\n",
    "correctlyPredicted = (y_test == y_pred).sum()\n",
    "\n",
    "print(\"K-Nearest Neighbours:\")\n",
    "print(f\"Testing Accuracy: {round(100*correctlyPredicted/totalTestPoints,2)}%\") # TP+TN/Total"
   ]
  },
  {
   "cell_type": "code",
   "execution_count": 11,
   "id": "90bee6e8-39d3-4a81-a6de-8da8ec0bc952",
   "metadata": {},
   "outputs": [
    {
     "name": "stdout",
     "output_type": "stream",
     "text": [
      "Decision Tree:\n",
      "Testing Accuracy: 46.15%\n"
     ]
    }
   ],
   "source": [
    "classifier = DecisionTreeClassifier(random_state=0, max_depth=4)\n",
    "model = classifier.fit(X_train, y_train)\n",
    "y_pred = model.predict(X_test)\n",
    "totalTestPoints = len(y_test)\n",
    "correctlyPredicted = (y_test == y_pred).sum()\n",
    "\n",
    "print(\"Decision Tree:\")\n",
    "print(f\"Testing Accuracy: {round(100*correctlyPredicted/totalTestPoints,2)}%\") # TP+TN/Total"
   ]
  },
  {
   "cell_type": "code",
   "execution_count": 12,
   "id": "96393956-637a-449d-8e1d-9934a44c6bd7",
   "metadata": {},
   "outputs": [
    {
     "name": "stdout",
     "output_type": "stream",
     "text": [
      "Neural Net:\n",
      "Testing Accuracy: 42.31%\n"
     ]
    }
   ],
   "source": [
    "classifier = MLPClassifier(alpha=1, max_iter=10000)\n",
    "model = classifier.fit(X_train, y_train)\n",
    "y_pred = model.predict(X_test)\n",
    "totalTestPoints = len(y_test)\n",
    "correctlyPredicted = (y_test == y_pred).sum()\n",
    "\n",
    "print(\"Neural Net:\")\n",
    "print(f\"Testing Accuracy: {round(100*correctlyPredicted/totalTestPoints,2)}%\") # TP+TN/Total"
   ]
  },
  {
   "cell_type": "code",
   "execution_count": 13,
   "id": "fe2dcb3a-71fb-4c7e-aa4f-f78ee5efe0dd",
   "metadata": {},
   "outputs": [
    {
     "name": "stdout",
     "output_type": "stream",
     "text": [
      "Support Vector Machine:\n",
      "Testing Accuracy: 42.31%\n"
     ]
    }
   ],
   "source": [
    "classifier = SVC(gamma=2, C=1)\n",
    "model = classifier.fit(X_train, y_train)\n",
    "y_pred = model.predict(X_test)\n",
    "totalTestPoints = len(y_test)\n",
    "correctlyPredicted = (y_test == y_pred).sum()\n",
    "\n",
    "print(\"Support Vector Machine:\")\n",
    "print(f\"Testing Accuracy: {round(100*correctlyPredicted/totalTestPoints,2)}%\") # TP+TN/Total"
   ]
  },
  {
   "cell_type": "code",
   "execution_count": 27,
   "id": "dd26a535-4ae8-44f2-9588-8d802bc18d5d",
   "metadata": {},
   "outputs": [
    {
     "name": "stdout",
     "output_type": "stream",
     "text": [
      "Random Forest:\n",
      "Testing Accuracy: 50.0%\n"
     ]
    }
   ],
   "source": [
    "classifier = RandomForestClassifier(max_depth=5, n_estimators=10, random_state=0)\n",
    "model = classifier.fit(X_train, y_train)\n",
    "y_pred = model.predict(X_test)\n",
    "totalTestPoints = len(y_test)\n",
    "correctlyPredicted = (y_test == y_pred).sum()\n",
    "\n",
    "print(\"Random Forest:\")\n",
    "print(f\"Testing Accuracy: {round(100*correctlyPredicted/totalTestPoints,2)}%\") # TP+TN/Total"
   ]
  },
  {
   "cell_type": "markdown",
   "id": "c17a0104-e67c-4305-9650-efa456cd8d60",
   "metadata": {},
   "source": [
    "## Questions\n",
    "1. Classifier selection criterion\n",
    "2. Depending on test/train split, the performance changes. How to measure the performance? Multiple runs?"
   ]
  },
  {
   "cell_type": "code",
   "execution_count": null,
   "id": "d4068306-1e17-4862-902a-b659cb63c74b",
   "metadata": {},
   "outputs": [],
   "source": []
  }
 ],
 "metadata": {
  "kernelspec": {
   "display_name": "Python 3 (ipykernel)",
   "language": "python",
   "name": "python3"
  },
  "language_info": {
   "codemirror_mode": {
    "name": "ipython",
    "version": 3
   },
   "file_extension": ".py",
   "mimetype": "text/x-python",
   "name": "python",
   "nbconvert_exporter": "python",
   "pygments_lexer": "ipython3",
   "version": "3.11.5"
  }
 },
 "nbformat": 4,
 "nbformat_minor": 5
}
